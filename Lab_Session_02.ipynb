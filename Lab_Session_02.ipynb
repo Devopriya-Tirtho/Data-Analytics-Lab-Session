{
  "nbformat": 4,
  "nbformat_minor": 0,
  "metadata": {
    "colab": {
      "provenance": [],
      "authorship_tag": "ABX9TyPy6KEbKlNVeOnaSGQ27Mq2",
      "include_colab_link": true
    },
    "kernelspec": {
      "name": "python3",
      "display_name": "Python 3"
    },
    "language_info": {
      "name": "python"
    }
  },
  "cells": [
    {
      "cell_type": "markdown",
      "metadata": {
        "id": "view-in-github",
        "colab_type": "text"
      },
      "source": [
        "<a href=\"https://colab.research.google.com/github/Devopriya-Tirtho/Data-Analytics-Lab-Session/blob/main/Lab_Session_02.ipynb\" target=\"_parent\"><img src=\"https://colab.research.google.com/assets/colab-badge.svg\" alt=\"Open In Colab\"/></a>"
      ]
    },
    {
      "cell_type": "markdown",
      "source": [
        "File Input/Output (I/O)"
      ],
      "metadata": {
        "id": "VwmiJdF9lU5G"
      }
    },
    {
      "cell_type": "code",
      "execution_count": null,
      "metadata": {
        "id": "4Sh875XOlSxt"
      },
      "outputs": [],
      "source": [
        "# Opening a file for reading\n",
        "infile = open(\"input.txt\", \"r\")\n",
        "content = infile.read()\n",
        "print(content)\n",
        "infile.close()"
      ]
    },
    {
      "cell_type": "code",
      "source": [
        "# Opening a file for writing\n",
        "outfile = open(\"output.txt\", \"w\")\n",
        "outfile.write(\"Hello, World!\\nThis is a demonstration of file I/O.\")\n",
        "outfile.close()"
      ],
      "metadata": {
        "id": "YVAtmEIKlc3g"
      },
      "execution_count": null,
      "outputs": []
    },
    {
      "cell_type": "code",
      "source": [
        "# Opening a file for read/write\n",
        "rwfile = open(\"data.txt\", \"r+\")\n",
        "data = rwfile.read()\n",
        "print(data)\n",
        "rwfile.write(\"\\nAdding a new line to the file.\")\n",
        "rwfile.close()"
      ],
      "metadata": {
        "id": "0_NOOo2Klcz6"
      },
      "execution_count": null,
      "outputs": []
    },
    {
      "cell_type": "code",
      "source": [
        "# Reading a file line by line\n",
        "with open(\"input.txt\", \"r\") as infile:\n",
        "    for line in infile:\n",
        "        print(line.strip())"
      ],
      "metadata": {
        "id": "zYtpf7Yklcw3"
      },
      "execution_count": null,
      "outputs": []
    },
    {
      "cell_type": "code",
      "source": [
        "# Writing multiple lines to a file\n",
        "with open(\"output.txt\", \"w\") as outfile:\n",
        "    for i in range(1, 6):\n",
        "        outfile.write(f\"Line {i}\\n\")"
      ],
      "metadata": {
        "id": "WlQcHbVQlctx"
      },
      "execution_count": null,
      "outputs": []
    },
    {
      "cell_type": "code",
      "source": [
        "# Processing a CSV file with split\n",
        "with open(\"data.csv\", \"r\") as infile:\n",
        "    for line in infile:\n",
        "        fields = line.strip().split(\",\")\n",
        "        print(fields)"
      ],
      "metadata": {
        "id": "QIf314Milcqg"
      },
      "execution_count": null,
      "outputs": []
    },
    {
      "cell_type": "code",
      "source": [
        "# Processing a CSV file with the csv module\n",
        "import csv\n",
        "with open(\"data.csv\", \"r\") as infile:\n",
        "    csv_reader = csv.reader(infile)\n",
        "    for row in csv_reader:\n",
        "        print(row)"
      ],
      "metadata": {
        "id": "lR0U699Mlcnd"
      },
      "execution_count": null,
      "outputs": []
    },
    {
      "cell_type": "code",
      "source": [
        "# Listing files in a directory\n",
        "import os\n",
        "print(os.listdir(\".\"))"
      ],
      "metadata": {
        "id": "bfa1dsI2lckh"
      },
      "execution_count": null,
      "outputs": []
    },
    {
      "cell_type": "code",
      "source": [],
      "metadata": {
        "id": "xs1osXlzlchF"
      },
      "execution_count": null,
      "outputs": []
    },
    {
      "cell_type": "markdown",
      "source": [
        "Reading Website Content Using urllib.request"
      ],
      "metadata": {
        "id": "i9jqjROSmIXx"
      }
    },
    {
      "cell_type": "code",
      "source": [
        "import urllib.request\n",
        "\n",
        "# URL of the webpage to read\n",
        "url = \"https://www.example.com\"\n",
        "\n",
        "# Open the URL and read the contents\n",
        "with urllib.request.urlopen(url) as site:\n",
        "    content = site.read().decode('utf-8')  # Decoding from bytes to string\n",
        "    print(content)"
      ],
      "metadata": {
        "id": "Gji8VV3IlceK"
      },
      "execution_count": null,
      "outputs": []
    },
    {
      "cell_type": "markdown",
      "source": [
        "Simulating a Web Browser Request"
      ],
      "metadata": {
        "id": "Esq3BuznmNq0"
      }
    },
    {
      "cell_type": "code",
      "source": [
        "import urllib.request\n",
        "\n",
        "# URL for the Google search query\n",
        "url = \"http://www.google.com/search?hl=en&q=data+analysis\"\n",
        "\n",
        "# Setting user-agent to simulate a browser\n",
        "headers = {'User-Agent': 'Mozilla/5.0 (Windows NT 10.0; Win64; x64)'}\n",
        "\n",
        "# Creating a request object\n",
        "request = urllib.request.Request(url, headers=headers)\n",
        "\n",
        "# Open the URL and read the response\n",
        "with urllib.request.urlopen(request) as response:\n",
        "    html_content = response.read().decode('utf-8')\n",
        "    print(html_content)"
      ],
      "metadata": {
        "id": "Ar_h7P0ylca-"
      },
      "execution_count": null,
      "outputs": []
    },
    {
      "cell_type": "markdown",
      "source": [
        "Downloading a CSV File from a URL"
      ],
      "metadata": {
        "id": "SdtGKbdTmQho"
      }
    },
    {
      "cell_type": "code",
      "source": [
        "import urllib.request\n",
        "\n",
        "# URL of the CSV file\n",
        "csv_url = \"https://people.sc.fsu.edu/~jburkardt/data/csv/airtravel.csv\"\n",
        "\n",
        "# File name to save the downloaded file\n",
        "file_name = \"downloaded_data.csv\"\n",
        "\n",
        "# Downloading the file\n",
        "urllib.request.urlretrieve(csv_url, file_name)\n",
        "\n",
        "print(f\"CSV file downloaded and saved as {file_name}\")"
      ],
      "metadata": {
        "id": "498DVdh7lcXx"
      },
      "execution_count": null,
      "outputs": []
    },
    {
      "cell_type": "markdown",
      "source": [
        "Parsing and Printing CSV Data from a URL"
      ],
      "metadata": {
        "id": "HT8zbBJ3mWV6"
      }
    },
    {
      "cell_type": "code",
      "source": [
        "import urllib.request\n",
        "import csv\n",
        "\n",
        "# URL of the CSV file\n",
        "csv_url = \"https://people.sc.fsu.edu/~jburkardt/data/csv/airtravel.csv\"\n",
        "\n",
        "# Open the URL and parse the CSV content\n",
        "with urllib.request.urlopen(csv_url) as site:\n",
        "    csv_data = csv.reader(site.read().decode('utf-8').splitlines())\n",
        "    for row in csv_data:\n",
        "        print(row)"
      ],
      "metadata": {
        "colab": {
          "base_uri": "https://localhost:8080/"
        },
        "id": "glSJkfEQlcUp",
        "outputId": "51180835-aad9-4755-abd0-a0069185607e"
      },
      "execution_count": null,
      "outputs": [
        {
          "output_type": "stream",
          "name": "stdout",
          "text": [
            "['Month', ' \"1958\"', ' \"1959\"', ' \"1960\"']\n",
            "['JAN', '  340', '  360', '  417']\n",
            "['FEB', '  318', '  342', '  391']\n",
            "['MAR', '  362', '  406', '  419']\n",
            "['APR', '  348', '  396', '  461']\n",
            "['MAY', '  363', '  420', '  472']\n",
            "['JUN', '  435', '  472', '  535']\n",
            "['JUL', '  491', '  548', '  622']\n",
            "['AUG', '  505', '  559', '  606']\n",
            "['SEP', '  404', '  463', '  508']\n",
            "['OCT', '  359', '  407', '  461']\n",
            "['NOV', '  310', '  362', '  390']\n",
            "['DEC', '  337', '  405', '  432']\n",
            "[]\n"
          ]
        }
      ]
    },
    {
      "cell_type": "markdown",
      "source": [
        "Error Handling While Accessing a Web Page"
      ],
      "metadata": {
        "id": "yRz5_6nZmZFx"
      }
    },
    {
      "cell_type": "code",
      "source": [
        "import urllib.request\n",
        "import urllib.error\n",
        "\n",
        "# URL of the webpage to access\n",
        "url = \"https://www.example.com/nonexistent\"\n",
        "\n",
        "try:\n",
        "    with urllib.request.urlopen(url) as site:\n",
        "        content = site.read().decode('utf-8')\n",
        "        print(content)\n",
        "except urllib.error.HTTPError as e:\n",
        "    print(f\"HTTP Error: {e.code}\")\n",
        "except urllib.error.URLError as e:\n",
        "    print(f\"URL Error: {e.reason}\")"
      ],
      "metadata": {
        "colab": {
          "base_uri": "https://localhost:8080/"
        },
        "id": "hoXeKSFslcRc",
        "outputId": "6590bd45-9ac4-43fc-98f7-ad809f650a3a"
      },
      "execution_count": null,
      "outputs": [
        {
          "output_type": "stream",
          "name": "stdout",
          "text": [
            "HTTP Error: 404\n"
          ]
        }
      ]
    },
    {
      "cell_type": "markdown",
      "source": [
        "Importing Commonly Used Modules"
      ],
      "metadata": {
        "id": "SamFysUImq3X"
      }
    },
    {
      "cell_type": "code",
      "source": [
        "# Importing standard Python libraries\n",
        "import math\n",
        "import os\n",
        "import random\n",
        "import csv\n",
        "import urllib.request\n",
        "\n",
        "# Importing third-party libraries for data analysis and visualization\n",
        "import numpy as np\n",
        "import pandas as pd\n",
        "import matplotlib.pyplot as plt\n",
        "import seaborn as sns\n",
        "import scipy.stats as stats\n",
        "import sklearn"
      ],
      "metadata": {
        "id": "ztBDvA_YlcN-"
      },
      "execution_count": null,
      "outputs": []
    },
    {
      "cell_type": "markdown",
      "source": [
        "Using NumPy for Scientific Computing"
      ],
      "metadata": {
        "id": "oeMZxfJ6mtcX"
      }
    },
    {
      "cell_type": "code",
      "source": [
        "import numpy as np\n",
        "\n",
        "# Create a 1D NumPy array\n",
        "array_1d = np.array([1, 2, 3, 4, 5])\n",
        "print(\"1D Array:\", array_1d)\n",
        "\n",
        "# Perform basic operations\n",
        "print(\"Array Sum:\", np.sum(array_1d))\n",
        "print(\"Array Mean:\", np.mean(array_1d))\n"
      ],
      "metadata": {
        "id": "reY4rDR6lcKx"
      },
      "execution_count": null,
      "outputs": []
    },
    {
      "cell_type": "markdown",
      "source": [
        "Using pandas for Data Manipulation"
      ],
      "metadata": {
        "id": "wTxIN5FfmvMf"
      }
    },
    {
      "cell_type": "code",
      "source": [
        "import pandas as pd\n",
        "\n",
        "# Create a DataFrame\n",
        "data = {\"Name\": [\"Alice\", \"Bob\", \"Charlie\"], \"Age\": [25, 30, 35]}\n",
        "df = pd.DataFrame(data)\n",
        "\n",
        "# Display the DataFrame\n",
        "print(df)\n",
        "\n",
        "# Perform basic operations\n",
        "print(\"Mean Age:\", df[\"Age\"].mean())"
      ],
      "metadata": {
        "id": "b5l1ixUplcH4"
      },
      "execution_count": null,
      "outputs": []
    },
    {
      "cell_type": "markdown",
      "source": [
        "Visualizing Data with matplotlib"
      ],
      "metadata": {
        "id": "L7mD9Ea9mz4I"
      }
    },
    {
      "cell_type": "code",
      "source": [
        "import matplotlib.pyplot as plt\n",
        "\n",
        "# Create data for a bar chart\n",
        "categories = [\"A\", \"B\", \"C\"]\n",
        "values = [10, 20, 15]\n",
        "\n",
        "# Create the bar chart\n",
        "plt.bar(categories, values)\n",
        "plt.title(\"Bar Chart Example\")\n",
        "plt.xlabel(\"Categories\")\n",
        "plt.ylabel(\"Values\")\n",
        "plt.show()"
      ],
      "metadata": {
        "id": "e74gxGdllcEk"
      },
      "execution_count": null,
      "outputs": []
    },
    {
      "cell_type": "markdown",
      "source": [
        "Creating Statistical Visualizations with Seaborn"
      ],
      "metadata": {
        "id": "I8OXGDRJm5ZQ"
      }
    },
    {
      "cell_type": "code",
      "source": [
        "import seaborn as sns\n",
        "import pandas as pd\n",
        "\n",
        "# Create sample data\n",
        "data = pd.DataFrame({\"x\": np.random.randn(100), \"y\": np.random.randn(100)})\n",
        "\n",
        "# Create a scatterplot\n",
        "sns.scatterplot(data=data, x=\"x\", y=\"y\")\n",
        "plt.title(\"Scatterplot Example\")\n",
        "plt.show()"
      ],
      "metadata": {
        "id": "Z2W_9vSClcBW"
      },
      "execution_count": null,
      "outputs": []
    },
    {
      "cell_type": "markdown",
      "source": [
        "Performing Linear Regression with SciPy"
      ],
      "metadata": {
        "id": "syiQyLdzm8KH"
      }
    },
    {
      "cell_type": "code",
      "source": [
        "from scipy.stats import linregress\n",
        "\n",
        "# Data\n",
        "x = [1, 2, 3, 4, 5]\n",
        "y = [2, 4, 5, 4, 5]\n",
        "\n",
        "# Perform linear regression\n",
        "slope, intercept, r_value, p_value, std_err = linregress(x, y)\n",
        "print(\"Slope:\", slope)\n",
        "print(\"Intercept:\", intercept)"
      ],
      "metadata": {
        "id": "-qZMN4Jylb-b"
      },
      "execution_count": null,
      "outputs": []
    },
    {
      "cell_type": "markdown",
      "source": [
        "Using scikit-learn for Machine Learning"
      ],
      "metadata": {
        "id": "WsXG3aZ4m_Wv"
      }
    },
    {
      "cell_type": "code",
      "source": [
        "from sklearn.linear_model import LinearRegression\n",
        "import numpy as np\n",
        "\n",
        "# Data\n",
        "X = np.array([[1], [2], [3], [4], [5]])  # Features\n",
        "y = np.array([2, 4, 5, 4, 5])  # Target\n",
        "\n",
        "# Create a linear regression model\n",
        "model = LinearRegression()\n",
        "model.fit(X, y)\n",
        "\n",
        "# Make predictions\n",
        "predictions = model.predict(X)\n",
        "print(\"Predictions:\", predictions)"
      ],
      "metadata": {
        "id": "88YGw7cMlb7K"
      },
      "execution_count": null,
      "outputs": []
    },
    {
      "cell_type": "markdown",
      "source": [
        "Data Visualization (Using matplotlib and seaborn)"
      ],
      "metadata": {
        "id": "8uRk_hCNnQsn"
      }
    },
    {
      "cell_type": "code",
      "source": [
        "# Import necessary libraries\n",
        "import matplotlib.pyplot as plt\n",
        "import seaborn as sns\n",
        "import pandas as pd\n",
        "import numpy as np\n",
        "\n",
        "# Sample data\n",
        "categories = [\"Category A\", \"Category B\", \"Category C\"]\n",
        "values = [20, 35, 30]\n",
        "\n",
        "# Bar Chart\n",
        "plt.bar(categories, values, color='skyblue')\n",
        "plt.title(\"Bar Chart Example\")\n",
        "plt.xlabel(\"Categories\")\n",
        "plt.ylabel(\"Values\")\n",
        "plt.show()\n",
        "\n",
        "# Histogram\n",
        "data = np.random.randn(1000)  # Generating random data\n",
        "plt.hist(data, bins=20, color='green', alpha=0.7)\n",
        "plt.title(\"Histogram Example\")\n",
        "plt.xlabel(\"Value\")\n",
        "plt.ylabel(\"Frequency\")\n",
        "plt.show()\n",
        "\n",
        "# Scatterplot using Seaborn\n",
        "df = pd.DataFrame({\n",
        "    \"x\": np.random.randn(100),\n",
        "    \"y\": np.random.randn(100)\n",
        "})\n",
        "sns.scatterplot(data=df, x=\"x\", y=\"y\")\n",
        "plt.title(\"Scatterplot Example\")\n",
        "plt.show()"
      ],
      "metadata": {
        "id": "18NCp1o0lb4H"
      },
      "execution_count": null,
      "outputs": []
    },
    {
      "cell_type": "markdown",
      "source": [
        "Scientific Computing- Linear Regression Using Scipy"
      ],
      "metadata": {
        "id": "_lqmAxcdnSh3"
      }
    },
    {
      "cell_type": "code",
      "source": [
        "from scipy.stats import linregress\n",
        "import numpy as np\n",
        "import matplotlib.pyplot as plt\n",
        "\n",
        "# Sample data\n",
        "x = np.array([1, 2, 3, 4, 5])\n",
        "y = np.array([2, 4, 5, 4, 5])\n",
        "\n",
        "# Perform linear regression\n",
        "slope, intercept, r_value, p_value, std_err = linregress(x, y)\n",
        "\n",
        "# Print regression details\n",
        "print(f\"Slope: {slope}, Intercept: {intercept}\")\n",
        "print(f\"R-squared: {r_value**2}\")\n",
        "\n",
        "# Plot the data and regression line\n",
        "plt.scatter(x, y, label=\"Data points\")\n",
        "plt.plot(x, intercept + slope * x, color=\"red\", label=\"Regression line\")\n",
        "plt.title(\"Linear Regression Example\")\n",
        "plt.xlabel(\"X\")\n",
        "plt.ylabel(\"Y\")\n",
        "plt.legend()\n",
        "plt.show()"
      ],
      "metadata": {
        "id": "Jcm1IP_Qlb1K"
      },
      "execution_count": null,
      "outputs": []
    },
    {
      "cell_type": "markdown",
      "source": [
        "k-Means Clustering Using SciPy"
      ],
      "metadata": {
        "id": "RjqEV2DznXtP"
      }
    },
    {
      "cell_type": "code",
      "source": [
        "from scipy.cluster.vq import kmeans, vq\n",
        "import numpy as np\n",
        "import matplotlib.pyplot as plt\n",
        "\n",
        "# Generate random data\n",
        "data = np.random.rand(100, 2)\n",
        "\n",
        "# Perform k-means clustering\n",
        "num_clusters = 3\n",
        "centroids, _ = kmeans(data, num_clusters)\n",
        "cluster_labels, _ = vq(data, centroids)\n",
        "\n",
        "# Plot data with clusters\n",
        "for i in range(num_clusters):\n",
        "    cluster_points = data[cluster_labels == i]\n",
        "    plt.scatter(cluster_points[:, 0], cluster_points[:, 1], label=f\"Cluster {i+1}\")\n",
        "\n",
        "plt.scatter(centroids[:, 0], centroids[:, 1], color=\"red\", marker=\"x\", s=100, label=\"Centroids\")\n",
        "plt.title(\"k-Means Clustering Example\")\n",
        "plt.legend()\n",
        "plt.show()"
      ],
      "metadata": {
        "id": "Qi434hKRlbyC"
      },
      "execution_count": null,
      "outputs": []
    },
    {
      "cell_type": "markdown",
      "source": [
        "Database Connectivity (Using mysql.connector)"
      ],
      "metadata": {
        "id": "bYviwNEKncd-"
      }
    },
    {
      "cell_type": "code",
      "source": [
        "pip install mysql.connector"
      ],
      "metadata": {
        "colab": {
          "base_uri": "https://localhost:8080/"
        },
        "id": "iTyTPK9qnoIu",
        "outputId": "d9fbfb7a-6f85-4102-86a3-5f4ec9106872"
      },
      "execution_count": null,
      "outputs": [
        {
          "output_type": "stream",
          "name": "stdout",
          "text": [
            "Collecting mysql.connector\n",
            "  Downloading mysql-connector-2.2.9.tar.gz (11.9 MB)\n",
            "\u001b[2K     \u001b[90m━━━━━━━━━━━━━━━━━━━━━━━━━━━━━━━━━━━━━━━━\u001b[0m \u001b[32m11.9/11.9 MB\u001b[0m \u001b[31m55.4 MB/s\u001b[0m eta \u001b[36m0:00:00\u001b[0m\n",
            "\u001b[?25h  Preparing metadata (setup.py) ... \u001b[?25l\u001b[?25hdone\n",
            "Building wheels for collected packages: mysql.connector\n",
            "  Building wheel for mysql.connector (setup.py) ... \u001b[?25l\u001b[?25hdone\n",
            "  Created wheel for mysql.connector: filename=mysql_connector-2.2.9-cp311-cp311-linux_x86_64.whl size=247949 sha256=cf10e442586fe6a84c0ef1b1baed22a6ba6a541362d7c631c28e7ffc692754a8\n",
            "  Stored in directory: /root/.cache/pip/wheels/17/cd/ed/2d49e9bac69cf09382e4c7cc20a2511202b48324b87db26019\n",
            "Successfully built mysql.connector\n",
            "Installing collected packages: mysql.connector\n",
            "Successfully installed mysql.connector-2.2.9\n"
          ]
        }
      ]
    },
    {
      "cell_type": "code",
      "source": [
        "import mysql.connector\n",
        "\n",
        "# Connect to a MySQL database\n",
        "try:\n",
        "    connection = mysql.connector.connect(\n",
        "        host=\"localhost\",\n",
        "        user=\"your_username\",\n",
        "        password=\"your_password\",\n",
        "        database=\"your_database\"\n",
        "    )\n",
        "\n",
        "    # Create a cursor to execute queries\n",
        "    cursor = connection.cursor()\n",
        "\n",
        "    # Example query\n",
        "    query = \"SELECT * FROM your_table LIMIT 5\"\n",
        "    cursor.execute(query)\n",
        "\n",
        "    # Fetch and print the results\n",
        "    for row in cursor.fetchall():\n",
        "        print(row)\n",
        "\n",
        "except mysql.connector.Error as err:\n",
        "    print(f\"Error: {err}\")\n",
        "finally:\n",
        "    if connection.is_connected():\n",
        "        cursor.close()\n",
        "        connection.close()"
      ],
      "metadata": {
        "colab": {
          "base_uri": "https://localhost:8080/",
          "height": 228
        },
        "id": "-fTKFJzoncHI",
        "outputId": "62be36c6-bedc-424d-e3aa-7caf13a6d882"
      },
      "execution_count": null,
      "outputs": [
        {
          "output_type": "stream",
          "name": "stdout",
          "text": [
            "Error: 2003: Can't connect to MySQL server on 'localhost:3306' (111 Connection refused)\n"
          ]
        },
        {
          "output_type": "error",
          "ename": "NameError",
          "evalue": "name 'connection' is not defined",
          "traceback": [
            "\u001b[0;31m---------------------------------------------------------------------------\u001b[0m",
            "\u001b[0;31mNameError\u001b[0m                                 Traceback (most recent call last)",
            "\u001b[0;32m<ipython-input-5-18dae3fd21e6>\u001b[0m in \u001b[0;36m<cell line: 0>\u001b[0;34m()\u001b[0m\n\u001b[1;32m     24\u001b[0m     \u001b[0mprint\u001b[0m\u001b[0;34m(\u001b[0m\u001b[0;34mf\"Error: {err}\"\u001b[0m\u001b[0;34m)\u001b[0m\u001b[0;34m\u001b[0m\u001b[0;34m\u001b[0m\u001b[0m\n\u001b[1;32m     25\u001b[0m \u001b[0;32mfinally\u001b[0m\u001b[0;34m:\u001b[0m\u001b[0;34m\u001b[0m\u001b[0;34m\u001b[0m\u001b[0m\n\u001b[0;32m---> 26\u001b[0;31m     \u001b[0;32mif\u001b[0m \u001b[0mconnection\u001b[0m\u001b[0;34m.\u001b[0m\u001b[0mis_connected\u001b[0m\u001b[0;34m(\u001b[0m\u001b[0;34m)\u001b[0m\u001b[0;34m:\u001b[0m\u001b[0;34m\u001b[0m\u001b[0;34m\u001b[0m\u001b[0m\n\u001b[0m\u001b[1;32m     27\u001b[0m         \u001b[0mcursor\u001b[0m\u001b[0;34m.\u001b[0m\u001b[0mclose\u001b[0m\u001b[0;34m(\u001b[0m\u001b[0;34m)\u001b[0m\u001b[0;34m\u001b[0m\u001b[0;34m\u001b[0m\u001b[0m\n\u001b[1;32m     28\u001b[0m         \u001b[0mconnection\u001b[0m\u001b[0;34m.\u001b[0m\u001b[0mclose\u001b[0m\u001b[0;34m(\u001b[0m\u001b[0;34m)\u001b[0m\u001b[0;34m\u001b[0m\u001b[0;34m\u001b[0m\u001b[0m\n",
            "\u001b[0;31mNameError\u001b[0m: name 'connection' is not defined"
          ]
        }
      ]
    },
    {
      "cell_type": "markdown",
      "source": [
        "Basic Map-Reduce Example"
      ],
      "metadata": {
        "id": "VKnd9ikEnvAu"
      }
    },
    {
      "cell_type": "code",
      "source": [
        "# Import the functools library for reduce\n",
        "import functools\n",
        "\n",
        "# Sample data\n",
        "data = [1, 2, 3, 4, 5]\n",
        "\n",
        "# Map step: Multiply each element by 2\n",
        "mapped_data = list(map(lambda x: x * 2, data))\n",
        "print(\"Mapped Data:\", mapped_data)\n",
        "\n",
        "# Reduce step: Sum all the elements\n",
        "reduced_result = functools.reduce(lambda x, y: x + y, mapped_data)\n",
        "print(\"Reduced Result:\", reduced_result)"
      ],
      "metadata": {
        "id": "EFJKyfi3lbu5"
      },
      "execution_count": null,
      "outputs": []
    },
    {
      "cell_type": "markdown",
      "source": [
        "Advanced Map-Reduce Example (Filter and Product Calculation)"
      ],
      "metadata": {
        "id": "UbgIRH5KnxdZ"
      }
    },
    {
      "cell_type": "code",
      "source": [
        "# Import the functools library for reduce\n",
        "import functools\n",
        "\n",
        "# Sample data\n",
        "data = [1, 2, 3, 4, 5, 6]\n",
        "\n",
        "# Map step: Subtract 2 from each element\n",
        "mapped_data = list(map(lambda x: x - 2, data))\n",
        "print(\"Mapped Data:\", mapped_data)\n",
        "\n",
        "# Filter step: Keep only elements greater than 0\n",
        "filtered_data = list(filter(lambda x: x > 0, mapped_data))\n",
        "print(\"Filtered Data:\", filtered_data)\n",
        "\n",
        "# Reduce step: Calculate the product of all remaining elements\n",
        "reduced_result = functools.reduce(lambda x, y: x * y, filtered_data)\n",
        "print(\"Reduced Result:\", reduced_result)"
      ],
      "metadata": {
        "id": "WT828k5elbr1"
      },
      "execution_count": null,
      "outputs": []
    },
    {
      "cell_type": "markdown",
      "source": [
        "Question 1"
      ],
      "metadata": {
        "id": "5sIfnC7joR-9"
      }
    },
    {
      "cell_type": "code",
      "source": [
        "# Question 1: Linear Regression\n",
        "# Write a function `perform_linear_regression(x, y)` that:\n",
        "# 1. Accepts two lists of numbers `x` and `y` as inputs.\n",
        "# 2. Calculates the slope and intercept of the linear regression line using the formulas:\n",
        "#    - Slope: m = (mean(x * y) - mean(x) * mean(y)) / (mean(x^2) - (mean(x))^2)\n",
        "#    - Intercept: b = mean(y) - m * mean(x)\n",
        "# 3. Returns the slope and intercept as a tuple.\n",
        "# Example Input:\n",
        "# x = [1, 2, 3, 4, 5]\n",
        "# y = [2, 4, 5, 4, 5]\n",
        "# Expected Output:\n",
        "# Slope: 0.3, Intercept: 3.4\n",
        "\n",
        "# Skeleton of the function\n",
        "def perform_linear_regression(x, y):\n",
        "    # Your code here\n",
        "    pass\n",
        "\n",
        "# Function call\n",
        "x = [1, 2, 3, 4, 5]\n",
        "y = [2, 4, 5, 4, 5]\n",
        "slope, intercept = perform_linear_regression(x, y)\n",
        "print(f\"Slope: {slope}, Intercept: {intercept}\")"
      ],
      "metadata": {
        "id": "7QQXo09Clbo0"
      },
      "execution_count": null,
      "outputs": []
    },
    {
      "cell_type": "markdown",
      "source": [
        "Question 2: Data Visualization"
      ],
      "metadata": {
        "id": "tSjg-XB3oWRI"
      }
    },
    {
      "cell_type": "code",
      "source": [
        "# Question 2: Data Visualization\n",
        "# Write a function `plot_bar_chart(categories, values)` that:\n",
        "# 1. Accepts two lists as inputs:\n",
        "#    - `categories`: A list of category names (strings).\n",
        "#    - `values`: A list of corresponding values (numbers).\n",
        "# 2. Creates a bar chart using `matplotlib` with:\n",
        "#    - Categories on the x-axis.\n",
        "#    - Values on the y-axis.\n",
        "#    - A title \"Bar Chart Example.\"\n",
        "# 3. Displays the chart.\n",
        "# Example Input:\n",
        "# categories = [\"A\", \"B\", \"C\"]\n",
        "# values = [10, 20, 15]\n",
        "# Expected Output:\n",
        "# A bar chart with \"A\", \"B\", \"C\" on the x-axis and bars representing values 10, 20, and 15.\n",
        "\n",
        "# Skeleton of the function\n",
        "def plot_bar_chart(categories, values):\n",
        "    # Your code here\n",
        "    pass\n",
        "\n",
        "# Function call\n",
        "categories = [\"A\", \"B\", \"C\"]\n",
        "values = [10, 20, 15]\n",
        "plot_bar_chart(categories, values)"
      ],
      "metadata": {
        "id": "5egvkZbllblb"
      },
      "execution_count": null,
      "outputs": []
    },
    {
      "cell_type": "code",
      "source": [],
      "metadata": {
        "id": "b2A1wM3Elbib"
      },
      "execution_count": null,
      "outputs": []
    },
    {
      "cell_type": "code",
      "source": [],
      "metadata": {
        "id": "klUwcbIqlbfo"
      },
      "execution_count": null,
      "outputs": []
    },
    {
      "cell_type": "code",
      "source": [],
      "metadata": {
        "id": "f-imsn_clbcn"
      },
      "execution_count": null,
      "outputs": []
    },
    {
      "cell_type": "code",
      "source": [],
      "metadata": {
        "id": "DFhG9LZ6lbZf"
      },
      "execution_count": null,
      "outputs": []
    },
    {
      "cell_type": "code",
      "source": [],
      "metadata": {
        "id": "SxJrHSZtlbWd"
      },
      "execution_count": null,
      "outputs": []
    },
    {
      "cell_type": "code",
      "source": [],
      "metadata": {
        "id": "MgOVD4yvlbTc"
      },
      "execution_count": null,
      "outputs": []
    },
    {
      "cell_type": "code",
      "source": [],
      "metadata": {
        "id": "oBOFD_d6lbQg"
      },
      "execution_count": null,
      "outputs": []
    },
    {
      "cell_type": "code",
      "source": [],
      "metadata": {
        "id": "qnyq7PkalbNk"
      },
      "execution_count": null,
      "outputs": []
    },
    {
      "cell_type": "code",
      "source": [],
      "metadata": {
        "id": "qEz-DLrmlbKt"
      },
      "execution_count": null,
      "outputs": []
    },
    {
      "cell_type": "code",
      "source": [],
      "metadata": {
        "id": "9XMxsM6_lbIH"
      },
      "execution_count": null,
      "outputs": []
    },
    {
      "cell_type": "code",
      "source": [],
      "metadata": {
        "id": "ff-Px2DTlbFJ"
      },
      "execution_count": null,
      "outputs": []
    },
    {
      "cell_type": "code",
      "source": [],
      "metadata": {
        "id": "Pn6iXJbxlbCO"
      },
      "execution_count": null,
      "outputs": []
    },
    {
      "cell_type": "code",
      "source": [],
      "metadata": {
        "id": "L3PKHhB9la_c"
      },
      "execution_count": null,
      "outputs": []
    },
    {
      "cell_type": "code",
      "source": [],
      "metadata": {
        "id": "fWNf7NRjla8j"
      },
      "execution_count": null,
      "outputs": []
    },
    {
      "cell_type": "code",
      "source": [],
      "metadata": {
        "id": "WQJNgfJgla5z"
      },
      "execution_count": null,
      "outputs": []
    },
    {
      "cell_type": "code",
      "source": [],
      "metadata": {
        "id": "AT2kOVcQla2-"
      },
      "execution_count": null,
      "outputs": []
    },
    {
      "cell_type": "code",
      "source": [],
      "metadata": {
        "id": "vhRY9OyAla0Q"
      },
      "execution_count": null,
      "outputs": []
    },
    {
      "cell_type": "code",
      "source": [],
      "metadata": {
        "id": "utb2A1GzlaxQ"
      },
      "execution_count": null,
      "outputs": []
    }
  ]
}