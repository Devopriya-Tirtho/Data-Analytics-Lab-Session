{
  "nbformat": 4,
  "nbformat_minor": 0,
  "metadata": {
    "colab": {
      "provenance": [],
      "authorship_tag": "ABX9TyNXQ233xDG9lyj3EAF1rvWf",
      "include_colab_link": true
    },
    "kernelspec": {
      "name": "python3",
      "display_name": "Python 3"
    },
    "language_info": {
      "name": "python"
    }
  },
  "cells": [
    {
      "cell_type": "markdown",
      "metadata": {
        "id": "view-in-github",
        "colab_type": "text"
      },
      "source": [
        "<a href=\"https://colab.research.google.com/github/Devopriya-Tirtho/Data-Analytics-Lab-Session/blob/main/Lab4.ipynb\" target=\"_parent\"><img src=\"https://colab.research.google.com/assets/colab-badge.svg\" alt=\"Open In Colab\"/></a>"
      ]
    },
    {
      "cell_type": "code",
      "execution_count": null,
      "metadata": {
        "id": "Q05SzhaVB6sC"
      },
      "outputs": [],
      "source": [
        "\"\"\"\n",
        "Lab 4: Python for Data Analytics - Hands-on Exercises\n",
        "\n",
        "Instructions:\n",
        "- Use the given CSV file link to load the dataset.\n",
        "- Answer each question by writing Python code in the respective cell.\n",
        "- No example code is provided, refer to the lecture slides if needed.\n",
        "\n",
        "Dataset: Salaries.csv\n",
        "Link: https://rcs.bu.edu/examples/python/DataAnalysis/Salaries.csv\n",
        "\"\"\""
      ]
    },
    {
      "cell_type": "code",
      "source": [
        "# Question 1: Reading the CSV File\n",
        "# Write a function `load_flights_data(file_path)` to read the `flights.csv` file into a pandas DataFrame and print the first five rows.\n",
        "import pandas as pd\n",
        "\n",
        "def load_flights_data(file_path):\n",
        "    df = pd.read_csv(file_path)\n",
        "    print(df.head())\n",
        "    return df\n",
        "\n",
        "# Load dataset\n",
        "file_path = \"https://rcs.bu.edu/examples/python/DataAnalysis/flights.csv\"\n",
        "df = load_flights_data(file_path)"
      ],
      "metadata": {
        "id": "9BXAHNHhCohg"
      },
      "execution_count": null,
      "outputs": []
    },
    {
      "cell_type": "code",
      "source": [
        "# Question 2: Checking for Missing Values\n",
        "# Write a function `check_missing_values(df)` that returns the total count of missing values in each column of the flights dataset."
      ],
      "metadata": {
        "id": "Xj4hh59dCoeW"
      },
      "execution_count": null,
      "outputs": []
    },
    {
      "cell_type": "code",
      "source": [
        "# Question 3: Filtering Missing Data\n",
        "# Write a function `rows_with_missing_values(df)` that returns all rows containing at least one NaN value."
      ],
      "metadata": {
        "id": "yfoIitkHCobj"
      },
      "execution_count": null,
      "outputs": []
    },
    {
      "cell_type": "code",
      "source": [
        "# Question 4: Dropping Rows with Missing Values\n",
        "# Write a function `drop_missing_rows(df)` that removes rows with any missing values and returns the cleaned DataFrame."
      ],
      "metadata": {
        "id": "RB8OUP5HCoYZ"
      },
      "execution_count": null,
      "outputs": []
    },
    {
      "cell_type": "code",
      "source": [
        "# Question 5: Dropping Columns with All Missing Values\n",
        "# Write a function `drop_empty_columns(df)` that removes columns where all values are missing."
      ],
      "metadata": {
        "id": "bPKl4KiUCoVU"
      },
      "execution_count": null,
      "outputs": []
    },
    {
      "cell_type": "code",
      "source": [
        "# Question 6: Replacing Missing Values with Zero\n",
        "# Write a function `fill_missing_with_zero(df)` that replaces all NaN values in the dataset with `0`."
      ],
      "metadata": {
        "id": "CvjBTs83CoSm"
      },
      "execution_count": null,
      "outputs": []
    },
    {
      "cell_type": "code",
      "source": [
        "# Question 7: Replacing Missing Values with Column Mean\n",
        "# Write a function `fill_missing_with_mean(df, column_name)` that replaces missing values in a given column with the column’s mean."
      ],
      "metadata": {
        "id": "3_8FUpuHCoPJ"
      },
      "execution_count": null,
      "outputs": []
    },
    {
      "cell_type": "code",
      "source": [
        "# Question 8: Counting Non-Missing Values\n",
        "# Write a function `count_non_missing(df, column_name)` that returns the count of non-missing values in a specified column."
      ],
      "metadata": {
        "id": "5eQBtsdNCoMb"
      },
      "execution_count": null,
      "outputs": []
    },
    {
      "cell_type": "code",
      "source": [
        "# Question 9: Summing Data While Ignoring NaN Values\n",
        "# Write a function `sum_column_ignore_nan(df, column_name)` that returns the sum of values in a column, treating missing values as zero."
      ],
      "metadata": {
        "id": "J1j8ZxONCoJP"
      },
      "execution_count": null,
      "outputs": []
    },
    {
      "cell_type": "code",
      "source": [
        "# Question 10: GroupBy Operations with Missing Values\n",
        "# Write a function `group_by_carrier_mean_delay(df)` that groups the dataset by airline carrier and calculates the mean departure delay, handling missing values appropriately."
      ],
      "metadata": {
        "id": "9zZkBWU6CoGN"
      },
      "execution_count": null,
      "outputs": []
    },
    {
      "cell_type": "code",
      "source": [
        "# Question 11: Identifying Rows with Specific Missing Values\n",
        "# Write a function `rows_missing_column(df, column_name)` that returns all rows where a specific column has missing values."
      ],
      "metadata": {
        "id": "HzbD0HcvCoDU"
      },
      "execution_count": null,
      "outputs": []
    },
    {
      "cell_type": "code",
      "source": [
        "# Question 12: Using `dropna(thresh=n)` for Filtering\n",
        "# Write a function `filter_rows_with_threshold(df, n)` that drops rows with fewer than `n` non-missing values."
      ],
      "metadata": {
        "id": "aZ-mzT-CCoAf"
      },
      "execution_count": null,
      "outputs": []
    },
    {
      "cell_type": "code",
      "source": [
        "# Question 13: Using `fillna(method='ffill')` to Forward Fill Missing Data\n",
        "# Write a function `forward_fill_missing_values(df)` that propagates the last valid observation forward to replace NaNs."
      ],
      "metadata": {
        "id": "7zQGy5kwCn9h"
      },
      "execution_count": null,
      "outputs": []
    },
    {
      "cell_type": "code",
      "source": [
        "# Question 14: Using `fillna(method='bfill')` to Backward Fill Missing Data\n",
        "# Write a function `backward_fill_missing_values(df)` that fills missing values with the next valid observation."
      ],
      "metadata": {
        "id": "rrmaWy47Cn6q"
      },
      "execution_count": null,
      "outputs": []
    },
    {
      "cell_type": "code",
      "source": [
        "# Question 15: Using `agg()` to Compute Multiple Statistics\n",
        "# Write a function `flight_delay_statistics(df)` that computes the `min`, `mean`, and `max` for `dep_delay` and `arr_delay` columns."
      ],
      "metadata": {
        "id": "Jq2wXzqLCn3n"
      },
      "execution_count": null,
      "outputs": []
    },
    {
      "cell_type": "code",
      "source": [
        "# Question 16: Sorting the DataFrame by Departure Delay\n",
        "# Write a function `sort_by_dep_delay(df)` that sorts the dataset based on departure delay in descending order."
      ],
      "metadata": {
        "id": "TARytYNtCn0r"
      },
      "execution_count": null,
      "outputs": []
    },
    {
      "cell_type": "code",
      "source": [
        "# Question 17: Creating a Bar Plot for Airline Delay Averages\n",
        "# Write a function `plot_airline_delay(df)` that plots the average delay for each airline carrier."
      ],
      "metadata": {
        "id": "KtPyvHo3Cnxi"
      },
      "execution_count": null,
      "outputs": []
    },
    {
      "cell_type": "code",
      "source": [
        "# Question 18: Filtering Flights Based on Air Time\n",
        "# Write a function `filter_long_flights(df, min_air_time)` that returns flights with air time greater than a given threshold."
      ],
      "metadata": {
        "id": "JziaEaS7Cnuq"
      },
      "execution_count": null,
      "outputs": []
    },
    {
      "cell_type": "code",
      "source": [],
      "metadata": {
        "id": "tDY_PegPCnr4"
      },
      "execution_count": null,
      "outputs": []
    },
    {
      "cell_type": "code",
      "source": [],
      "metadata": {
        "id": "0J9ZngNMCnow"
      },
      "execution_count": null,
      "outputs": []
    },
    {
      "cell_type": "code",
      "source": [],
      "metadata": {
        "id": "66VjXY0MCnl5"
      },
      "execution_count": null,
      "outputs": []
    },
    {
      "cell_type": "code",
      "source": [],
      "metadata": {
        "id": "RiBz73D1CnjK"
      },
      "execution_count": null,
      "outputs": []
    },
    {
      "cell_type": "code",
      "source": [],
      "metadata": {
        "id": "C0jJ110BCngR"
      },
      "execution_count": null,
      "outputs": []
    },
    {
      "cell_type": "code",
      "source": [],
      "metadata": {
        "id": "FO7WXK5gCndc"
      },
      "execution_count": null,
      "outputs": []
    },
    {
      "cell_type": "code",
      "source": [],
      "metadata": {
        "id": "UvyQ2b5CCnbB"
      },
      "execution_count": null,
      "outputs": []
    }
  ]
}